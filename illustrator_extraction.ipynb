{
 "cells": [
  {
   "cell_type": "code",
   "execution_count": 25,
   "metadata": {},
   "outputs": [
    {
     "name": "stdout",
     "output_type": "stream",
     "text": [
      "\n"
     ]
    }
   ],
   "source": [
    "import cv2\n",
    "import pytesseract\n",
    "\n",
    "# Load the image\n",
    "image_path = \"pokemon_card_images/alakazam-base-set-bs-1.jpg\"\n",
    "image = cv2.imread(image_path)\n",
    "\n",
    "# Crop the area where the illustrator's name appears (bottom-left corner)\n",
    "height, width, _ = image.shape\n",
    "cropped_image = image[int(height * 0.95):height, :int(width * 0.25)]\n",
    "#processed_image = cv2.cvtColor(cropped_image, cv2.COLOR_BGR2GRAY)\n",
    "#processed_image = cv2.threshold(gray_image, 0, 255, cv2.THRESH_BINARY + cv2.THRESH_OTSU)[1]\n",
    "processed_image = cv2.resize(cropped_image, None, fx=10, fy=10, interpolation=cv2.INTER_LINEAR)\n",
    "#processed_image = cv2.cvtColor(cropped_image, cv2.COLOR_BGR2GRAY)\n",
    "\"\"\"ChildProcessErrorbrightened_image = cv2.convertScaleAbs(processed_image, alpha=1.5, beta=50)\n",
    "processed_image = cv2.adaptiveThreshold(\n",
    "    processed_image, \n",
    "    255, \n",
    "    cv2.ADAPTIVE_THRESH_GAUSSIAN_C, \n",
    "    cv2.THRESH_BINARY, \n",
    "    11, \n",
    "    2\n",
    ")\n",
    "\n",
    "processed_image = cv2.resize(processed_image, None, fx=2, fy=2, interpolation=cv2.INTER_LINEAR)\"\"\"\n",
    "\n",
    "\n",
    "cv2.imwrite(\"illustrator_images/cropped_alakazam.jpg\", processed_image)\n",
    "\n",
    "# Use Tesseract to extract text\n",
    "pytesseract.pytesseract.tesseract_cmd = r'C:\\Program Files\\Tesseract-OCR\\tesseract.exe'  # Update the path as needed\n",
    "extracted_text = pytesseract.image_to_string(\n",
    "    processed_image, \n",
    "    config=\"--psm 6 --user-words illustrators.txt\"\n",
    ")\n",
    "\n",
    "print(extracted_text)\n"
   ]
  },
  {
   "cell_type": "code",
   "execution_count": null,
   "metadata": {},
   "outputs": [
    {
     "name": "stdout",
     "output_type": "stream",
     "text": [
      "Illustrator's Name: a ra\n",
      "\n",
      "5 x\n",
      "\n",
      "ss\n",
      "\n",
      "x\n",
      "\n",
      "iets us\n",
      "\n",
      "-\n",
      "\n",
      "\n"
     ]
    }
   ],
   "source": [
    "import cv2\n",
    "import pytesseract\n",
    "import numpy as np\n",
    "\n",
    "# Load the image\n",
    "#image_path = \"pokemon_card_images/alakazam-base-set-bs-1.jpg\"\n",
    "image_path = \"C:/Users/frang/Pictures/Hartboardsign.jpg\"\n",
    "image = cv2.imread(image_path)\n",
    "\n",
    "# Crop the area where the illustrator's name appears (bottom-left corner)\n",
    "height, width, _ = image.shape\n",
    "#cropped_image = image[int(height * 0.95):height, :int(width * 0.25)]\n",
    "\n",
    "# Resize to make text larger for better recognition\n",
    "#resize_factor = 2  # Increase this factor if needed\n",
    "#resized_image = cv2.resize(cropped_image, None, fx=resize_factor, fy=resize_factor, interpolation=cv2.INTER_CUBIC)\n",
    "\n",
    "# Convert to grayscale\n",
    "gray_image = cv2.cvtColor(image, cv2.COLOR_BGR2GRAY)\n",
    "\n",
    "# Apply adaptive thresholding for binarization\n",
    "processed_image = cv2.adaptiveThreshold(\n",
    "    gray_image, \n",
    "    255, \n",
    "    cv2.ADAPTIVE_THRESH_MEAN_C, \n",
    "    cv2.THRESH_BINARY, \n",
    "    11,  # Kernel size for adaptive thresholding\n",
    "    2    # Constant subtracted from mean\n",
    ")\n",
    "\n",
    "# Apply Gaussian blur to smooth out noise (optional)\n",
    "blurred_image = cv2.GaussianBlur(processed_image, (5, 5), 0)\n",
    "\n",
    "# Sharpen the image to emphasize text (optional)\n",
    "sharpened_image = cv2.filter2D(blurred_image, -1, np.array([[0, -1, 0], [-1, 5,-1], [0, -1, 0]]))\n",
    "\n",
    "\n",
    "# Step 6: Save intermediate images for debugging (optional)\n",
    "cv2.imwrite(\"illustrator_images/resized_image.jpg\", image)\n",
    "cv2.imwrite(\"illustrator_images/processed_image.jpg\", sharpened_image)\n",
    "\n",
    "# Step 7: Specify the path to Tesseract executable\n",
    "pytesseract.pytesseract.tesseract_cmd = r\"C:/Program Files/Tesseract-OCR/tesseract.exe\"\n",
    "\n",
    "custom_words_path = \"illustrators.txt\"  # Specify the path to your custom wordlist file\n",
    "#config = f'--user-words {custom_words_path} --psm 6'\"\"\"\n",
    "\n",
    "# Extract text using Tesseract with custom word list\n",
    "extracted_text = pytesseract.image_to_string(processed_image)\n",
    "\n",
    "print(\"Illustrator's Name:\", extracted_text)"
   ]
  },
  {
   "cell_type": "code",
   "execution_count": null,
   "metadata": {},
   "outputs": [],
   "source": []
  }
 ],
 "metadata": {
  "kernelspec": {
   "display_name": "base",
   "language": "python",
   "name": "python3"
  },
  "language_info": {
   "codemirror_mode": {
    "name": "ipython",
    "version": 3
   },
   "file_extension": ".py",
   "mimetype": "text/x-python",
   "name": "python",
   "nbconvert_exporter": "python",
   "pygments_lexer": "ipython3",
   "version": "3.9.12"
  }
 },
 "nbformat": 4,
 "nbformat_minor": 2
}
